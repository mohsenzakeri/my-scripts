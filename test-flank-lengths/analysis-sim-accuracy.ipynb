{
 "cells": [
  {
   "cell_type": "code",
   "execution_count": 1,
   "metadata": {},
   "outputs": [],
   "source": [
    "import warnings\n",
    "warnings.simplefilter(action='ignore', category=FutureWarning)\n",
    "import scanpy\n",
    "import os\n",
    "import pandas as pd\n",
    "import numpy as np\n",
    "import scipy as sp\n",
    "import scipy.stats\n",
    "import matplotlib.pyplot as plt\n",
    "import seaborn as sns\n",
    "import json"
   ]
  },
  {
   "cell_type": "code",
   "execution_count": 2,
   "metadata": {},
   "outputs": [],
   "source": [
    "def load_fry(frydir, which_counts=['S','A'], verbose=False):\n",
    "    import json\n",
    "    import os\n",
    "    meta_info = json.load(open(os.path.sep.join([frydir, \"meta_info.json\"])))\n",
    "    ng = meta_info['num_genes']\n",
    "    usa_mode = meta_info['usa_mode']\n",
    "\n",
    "    if usa_mode:\n",
    "        assert(len(which_counts) > 0)\n",
    "        if verbose:\n",
    "            print(\"processing input in USA mode, will return {}\".format(\"+\".join(which_counts)))\n",
    "    elif verbose:\n",
    "        print(\"processing input in standard mode, will return spliced count\")\n",
    "\n",
    "    af_raw = scanpy.read_mtx(os.path.sep.join([frydir, \"alevin\", \"quants_mat.mtx\"]))\n",
    "    ng = int(ng/3) if usa_mode else ng\n",
    "    afg = [ l.rstrip() for l in open(os.path.sep.join([frydir, \"alevin\", \"quants_mat_cols.txt\"])).readlines()][:ng]\n",
    "    afg_df =  pd.DataFrame(afg, columns=[\"gene_ids\"])\n",
    "    afg_df = afg_df.set_index(\"gene_ids\")\n",
    "    \n",
    "    abc = [ l.rstrip() for l in open(os.path.sep.join([frydir, \"alevin\", \"quants_mat_rows.txt\"])).readlines() ]\n",
    "    abc_df = pd.DataFrame(abc, columns=['barcodes'])\n",
    "    abc_df.index = abc_df['barcodes']\n",
    "    \n",
    "    x = af_raw.X\n",
    "    if usa_mode:\n",
    "        rd = {'S' : range(0,ng), 'U' : range(ng, 2*ng), 'A' : range(2*ng,3*ng)}\n",
    "        o = x[:, rd[which_counts[0]]]\n",
    "        for wc in which_counts[1:]:\n",
    "            o += x[:, rd[wc]]\n",
    "    else:\n",
    "        o = x\n",
    "        \n",
    "    af = scanpy.AnnData(o.T, var=abc_df, obs=afg_df)\n",
    "    af = af.T\n",
    "    return af"
   ]
  },
  {
   "cell_type": "code",
   "execution_count": 3,
   "metadata": {},
   "outputs": [],
   "source": [
    "def read_sim(simdir):\n",
    "    cf = 'cells.tsv'\n",
    "    gf = 'genes.tsv'\n",
    "    mf = 'matrix.mtx'\n",
    "    \n",
    "    sim_raw = scanpy.read_mtx(os.path.sep.join([simdir, mf]))\n",
    "    genes = [ l.rstrip() for l in open(os.path.sep.join([simdir, gf])).readlines() ]\n",
    "    genes_df = pd.DataFrame(genes, columns=[\"gene_ids\"])\n",
    "    genes_df = genes_df.set_index(\"gene_ids\")\n",
    "    \n",
    "    barcodes = [ l.rstrip() for l in open(os.path.sep.join([simdir, cf])).readlines()]\n",
    "    barcodes_df = pd.DataFrame(barcodes, columns=[\"barcodes\"])\n",
    "    barcodes_df = barcodes_df.set_index(\"barcodes\")\n",
    "    \n",
    "    mat = scanpy.AnnData(sim_raw.X, var=barcodes_df, obs=genes_df)\n",
    "    mat = mat.T\n",
    "    return mat"
   ]
  },
  {
   "cell_type": "code",
   "execution_count": 4,
   "metadata": {},
   "outputs": [],
   "source": [
    "def sp_corr_df(d1, d2, shared, shared_cells, kind=\"cells\", thresh=1):\n",
    "    '''\n",
    "    Given 2 AnnData objects, a list of shared genes `shared` and \n",
    "    a list of shared cells `shared_cells`, compute the pariwise spearman \n",
    "    correlation of type `kind`.  If `kind` is \"cells\", then compute the \n",
    "    cellwise spearman correlations, if it is \"genes\" compute the genewise\n",
    "    spearman correlations.  The result is a distribution (list) of correlation\n",
    "    values.\n",
    "    '''\n",
    "    a = d1[shared_cells, shared].X.copy()\n",
    "    b = d2[shared_cells, shared].X.copy()\n",
    "    if kind == \"cells\":\n",
    "        corrs = np.zeros(len(shared_cells))\n",
    "        for i,c in enumerate(shared_cells):\n",
    "            sr,p = sp.stats.spearmanr(a[i,:].toarray()[0], b[i,:].toarray()[0])\n",
    "            corrs[i]=sr\n",
    "    elif kind == \"genes\":\n",
    "        a = a.T.tocsr()\n",
    "        b = b.T.tocsr()\n",
    "        corrs = np.zeros(len(shared))\n",
    "        for i,c in enumerate(shared):\n",
    "            sr,p = scipy.stats.spearmanr(a[i,:].toarray()[0], b[i,:].toarray()[0])\n",
    "            corrs[i]=sr\n",
    "    return corrs\n"
   ]
  },
  {
   "cell_type": "code",
   "execution_count": 5,
   "metadata": {},
   "outputs": [],
   "source": [
    "def maximum (A, B):\n",
    "    '''\n",
    "    Select the maximum, entry-wise among matricies A and B.    \n",
    "    '''\n",
    "    # https://stackoverflow.com/questions/19311353/element-wise-maximum-of-two-sparse-matrices\n",
    "    BisBigger = A-B\n",
    "    BisBigger.data = np.where(BisBigger.data < 0, 1, 0)\n",
    "    return A - A.multiply(BisBigger) + B.multiply(BisBigger)"
   ]
  },
  {
   "cell_type": "code",
   "execution_count": 6,
   "metadata": {},
   "outputs": [],
   "source": [
    "def get_metrics(truth, pred_in):\n",
    "    '''\n",
    "    Compute and return the metrics we are evaluating.\n",
    "    '''  \n",
    "    shared_obs = pred_in.obs.index.intersection(truth.obs.index)\n",
    "    shared_var = pred_in.var.index.intersection(truth.var.index)\n",
    "\n",
    "    truth_filt = truth[shared_obs, shared_var].copy()\n",
    "    pred = pred_in[shared_obs, shared_var].copy()\n",
    "    entry_rd = (pred.X - truth_filt.X) / maximum(truth_filt.X, pred.X)\n",
    "    entry_ard_nonan = np.abs(entry_rd[~np.isnan(entry_rd)])\n",
    "    mard_drop_nan = entry_ard_nonan.mean()\n",
    "    \n",
    "    entry_rdc = entry_rd.copy()\n",
    "    entry_rdc[np.isnan(entry_rdc)] = 0.0\n",
    "    mard_nan_zero = np.abs(entry_rdc).mean()\n",
    "    \n",
    "    spearmans = sp_corr_df(truth_filt, pred, pred.var_names, pred.obs_names)\n",
    "    \n",
    "    fps = [np.logical_and(truth_filt.X[i,:].toarray() == 0, pred.X[i,:].toarray() > 0).sum() for i in range(pred.X.shape[0])]\n",
    "    num_expressed = [ np.sum(truth_filt.X[i,:].toarray() > 0) for i in range(pred.X.shape[0])]\n",
    "    \n",
    "    fp_gene_per_cell = np.mean(np.array(fps)/np.array(num_expressed))\n",
    "  \n",
    "    fns = [np.logical_and(truth_filt.X[i,:].toarray() > 0, pred.X[i,:].toarray() == 0).sum() for i in range(pred.X.shape[0])]\n",
    "    #num_expressed = [ np.sum(truth_filt.X[i,:].toarray() > 0) for i in range(pred.X.shape[0])]\n",
    "    \n",
    "    fn_gene_per_cell = np.mean(np.array(fns)/np.array(num_expressed))\n",
    "    \n",
    "    rd = {'rd' : entry_rd, 'mard' : mard_nan_zero, 'mard_drop_nan' : mard_drop_nan,\n",
    "          'spearmans' : spearmans, 'fp_gene_per_cell' : fp_gene_per_cell, \n",
    "          'fn_gene_per_cell' : fn_gene_per_cell}\n",
    "    return rd"
   ]
  },
  {
   "cell_type": "code",
   "execution_count": 7,
   "metadata": {},
   "outputs": [],
   "source": [
    "def print_summary_metrics(resdict):\n",
    "    print('Mean per-cell Spearman correlation: {:.4f}'.format(resdict['spearmans'].mean()))\n",
    "    print('MARD (dropping NANs) : {:.4f}'.format(resdict['mard_drop_nan']))\n",
    "    print('MARD (setting NANs = 0) : {:.4f}'.format(resdict['mard']))\n",
    "    print('rFP / cell : {:.4f}%'.format(100*resdict['fp_gene_per_cell']))\n",
    "    print('rFN / cell : {:.4f}%'.format(100*resdict['fn_gene_per_cell']))"
   ]
  },
  {
   "cell_type": "code",
   "execution_count": 8,
   "metadata": {},
   "outputs": [],
   "source": [
    "def get_shared(list_of_annd):\n",
    "    shared_cells = list_of_annd[0].obs_names\n",
    "    shared_genes = list_of_annd[0].var_names\n",
    "    for annd in list_of_annd[1:]:\n",
    "        shared_cells &= annd.obs_names\n",
    "        shared_genes &= annd.var_names \n",
    "    return shared_cells, shared_genes"
   ]
  },
  {
   "cell_type": "code",
   "execution_count": 9,
   "metadata": {},
   "outputs": [],
   "source": [
    "def legend_without_duplicate_labels(ax, loc='lower right'):\n",
    "    '''\n",
    "    from : https://stackoverflow.com/questions/19385639/duplicate-items-in-legend-in-matplotlib\n",
    "    '''\n",
    "    handles, labels = ax.get_legend_handles_labels()\n",
    "    unique = [(h, l) for i, (h, l) in enumerate(zip(handles, labels)) if l not in labels[:i]]\n",
    "    ax.legend(*zip(*unique), loc=loc)"
   ]
  },
  {
   "cell_type": "code",
   "execution_count": 10,
   "metadata": {},
   "outputs": [],
   "source": [
    "colors = {'STARsolo' : (200/255.0, 184/255.0, 114/255.0), \n",
    "          'alevin-fry (splici, sketch)' : (106/255.0, 123/255.0, 197/255.0) , \n",
    "          'alevin-fry (txome, sketch)' : (117/255.0, 0/255.0, 117/255.0), \n",
    "          'kallisto|bustools' : (191/255.0, 114/255.0, 106/255.0), \n",
    "          'alevin-fry (splici, sla)' : (0/255.0, 118/255.0, 0/255.0)}"
   ]
  },
  {
   "cell_type": "code",
   "execution_count": 11,
   "metadata": {},
   "outputs": [],
   "source": [
    "def get_res_summary(mdict):\n",
    "    datalist = []\n",
    "    for mn, m in mdict.items():\n",
    "        datalist.append((mn, m['spearmans'].mean(), m['mard_drop_nan'], m['mard'], m['fp_gene_per_cell'], m['fn_gene_per_cell']))\n",
    "    \n",
    "    data = pd.DataFrame.from_records(datalist, \n",
    "        columns=['method', 'mean Spearman corr.', 'MARD (drop NA)', 'MARD (NA=0)', 'rFP/cell', 'rFN/cell'])\n",
    "    return data"
   ]
  },
  {
   "cell_type": "code",
   "execution_count": 12,
   "metadata": {},
   "outputs": [],
   "source": [
    "def plot_nz_decay(md, shared_genes, shared_cells):\n",
    "    sns.set_context('paper')#, font_scale=1.4, rc={\"lines.linewidth\": 2})\n",
    "    sns.set_style('whitegrid')\n",
    "    fig, ax = plt.subplots()\n",
    "    for k,v in md.items():\n",
    "        nnz = v[shared_cells, shared_genes].X.getnnz(axis=0)\n",
    "        nnz.sort()\n",
    "        nnz = nnz[::-1]\n",
    "        ax.plot(nnz, c=colors[k], label=k)\n",
    "    fig.set_size_inches(10, 6)\n",
    "    fig.set_dpi(300)\n",
    "    plt.yscale('log')\n",
    "    plt.ylabel('# cells in which a gene is present')\n",
    "    plt.xlabel('gene rank by frequency')\n",
    "    plt.legend()"
   ]
  },
  {
   "cell_type": "code",
   "execution_count": 15,
   "metadata": {},
   "outputs": [],
   "source": [
    "top_path = None\n",
    "with open('config.json') as f:\n",
    "    config = json.load(f)\n",
    "    top_path = config['top_dir']\n",
    "    truth_path = config['truth_dir']"
   ]
  },
  {
   "cell_type": "code",
   "execution_count": 17,
   "metadata": {},
   "outputs": [],
   "source": [
    "truth = read_sim(truth_path)"
   ]
  },
  {
   "cell_type": "code",
   "execution_count": 31,
   "metadata": {},
   "outputs": [],
   "source": [
    "fry_results = {}"
   ]
  },
  {
   "cell_type": "code",
   "execution_count": 73,
   "metadata": {},
   "outputs": [
    {
     "data": {
      "text/plain": [
       "{85: AnnData object with n_obs × n_vars = 4789 × 33540\n",
       "     obs: 'barcodes',\n",
       " 90: AnnData object with n_obs × n_vars = 4789 × 33540\n",
       "     obs: 'barcodes',\n",
       " 95: AnnData object with n_obs × n_vars = 4789 × 33540\n",
       "     obs: 'barcodes',\n",
       " 100: AnnData object with n_obs × n_vars = 4789 × 33540\n",
       "     obs: 'barcodes',\n",
       " 105: AnnData object with n_obs × n_vars = 4789 × 33540\n",
       "     obs: 'barcodes',\n",
       " 110: AnnData object with n_obs × n_vars = 4789 × 33540\n",
       "     obs: 'barcodes',\n",
       " 115: AnnData object with n_obs × n_vars = 4789 × 33540\n",
       "     obs: 'barcodes',\n",
       " 120: AnnData object with n_obs × n_vars = 4789 × 33540\n",
       "     obs: 'barcodes',\n",
       " 125: AnnData object with n_obs × n_vars = 4789 × 33540\n",
       "     obs: 'barcodes',\n",
       " 130: AnnData object with n_obs × n_vars = 4789 × 33540\n",
       "     obs: 'barcodes',\n",
       " 135: AnnData object with n_obs × n_vars = 4789 × 33540\n",
       "     obs: 'barcodes',\n",
       " 145: AnnData object with n_obs × n_vars = 4789 × 33540\n",
       "     obs: 'barcodes'}"
      ]
     },
     "execution_count": 73,
     "metadata": {},
     "output_type": "execute_result"
    }
   ],
   "source": [
    "fry_results"
   ]
  },
  {
   "cell_type": "code",
   "execution_count": 77,
   "metadata": {},
   "outputs": [
    {
     "name": "stdout",
     "output_type": "stream",
     "text": [
      "/mnt/scratch1/mohsen/salmon_indices/salmon_sim_data/salmon_fl140_sparse/quant_knee_cr-like/\n"
     ]
    }
   ],
   "source": [
    "for i in range(85, 150, 5):\n",
    "    path = \"/mnt/scratch1/mohsen/salmon_indices/salmon_sim_data/salmon_fl\"+str(i)+\"_sparse/quant_knee_cr-like/\"\n",
    "    if os.path.isdir(path) and i not in fry_results:\n",
    "        print(path)\n",
    "        fry_results[i] = load_fry(path)"
   ]
  },
  {
   "cell_type": "code",
   "execution_count": 75,
   "metadata": {},
   "outputs": [],
   "source": [
    "spearmans = {}\n",
    "mards_drop_nan = {}\n",
    "mards = {}\n",
    "fps = {}\n",
    "fns = {}"
   ]
  },
  {
   "cell_type": "code",
   "execution_count": 78,
   "metadata": {},
   "outputs": [
    {
     "name": "stdout",
     "output_type": "stream",
     "text": [
      "140\n"
     ]
    }
   ],
   "source": [
    "for i in range(140, 145, 5):\n",
    "    if i in fry_results:\n",
    "        print(i)\n",
    "        shared_cells, shared_genes = get_shared([truth, fry_results[i]])\n",
    "        splici_res = get_metrics(truth[shared_cells, shared_genes], fry_results[i][shared_cells, shared_genes])\n",
    "        spearmans[i] = splici_res['spearmans'].mean()\n",
    "        mards_drop_nan[i] = splici_res['mard_drop_nan']\n",
    "        mards[i] = splici_res['mard']\n",
    "        fps[i] = splici_res['fp_gene_per_cell']\n",
    "        fns[i] = splici_res['fn_gene_per_cell']"
   ]
  },
  {
   "cell_type": "code",
   "execution_count": 108,
   "metadata": {},
   "outputs": [],
   "source": [
    "all_df = pd.DataFrame(columns = ['flank-length', 'spearman', 'mard_drop_nan', 'fp', 'fn'])\n",
    "for key in spearmans:\n",
    "    all_df = all_df.append({'flank-length': key, 'spearman' : spearmans[key], \\\n",
    "                           'mard_drop_nan' : mards_drop_nan[key], \\\n",
    "                           'fp' : fps[key], 'fn' : fns[key]}, ignore_index=True)"
   ]
  },
  {
   "cell_type": "code",
   "execution_count": 109,
   "metadata": {},
   "outputs": [
    {
     "data": {
      "text/html": [
       "<div>\n",
       "<style scoped>\n",
       "    .dataframe tbody tr th:only-of-type {\n",
       "        vertical-align: middle;\n",
       "    }\n",
       "\n",
       "    .dataframe tbody tr th {\n",
       "        vertical-align: top;\n",
       "    }\n",
       "\n",
       "    .dataframe thead th {\n",
       "        text-align: right;\n",
       "    }\n",
       "</style>\n",
       "<table border=\"1\" class=\"dataframe\">\n",
       "  <thead>\n",
       "    <tr style=\"text-align: right;\">\n",
       "      <th></th>\n",
       "      <th>flank-length</th>\n",
       "      <th>spearman</th>\n",
       "      <th>mard_drop_nan</th>\n",
       "      <th>fp</th>\n",
       "      <th>fn</th>\n",
       "    </tr>\n",
       "  </thead>\n",
       "  <tbody>\n",
       "    <tr>\n",
       "      <th>0</th>\n",
       "      <td>85.0</td>\n",
       "      <td>0.988318</td>\n",
       "      <td>0.026321</td>\n",
       "      <td>0.010969</td>\n",
       "      <td>0.011832</td>\n",
       "    </tr>\n",
       "    <tr>\n",
       "      <th>1</th>\n",
       "      <td>90.0</td>\n",
       "      <td>0.988337</td>\n",
       "      <td>0.026280</td>\n",
       "      <td>0.010935</td>\n",
       "      <td>0.011830</td>\n",
       "    </tr>\n",
       "    <tr>\n",
       "      <th>2</th>\n",
       "      <td>95.0</td>\n",
       "      <td>0.988346</td>\n",
       "      <td>0.026261</td>\n",
       "      <td>0.010916</td>\n",
       "      <td>0.011830</td>\n",
       "    </tr>\n",
       "    <tr>\n",
       "      <th>3</th>\n",
       "      <td>100.0</td>\n",
       "      <td>0.988355</td>\n",
       "      <td>0.026242</td>\n",
       "      <td>0.010897</td>\n",
       "      <td>0.011832</td>\n",
       "    </tr>\n",
       "    <tr>\n",
       "      <th>4</th>\n",
       "      <td>105.0</td>\n",
       "      <td>0.988367</td>\n",
       "      <td>0.026216</td>\n",
       "      <td>0.010872</td>\n",
       "      <td>0.011832</td>\n",
       "    </tr>\n",
       "    <tr>\n",
       "      <th>5</th>\n",
       "      <td>110.0</td>\n",
       "      <td>0.988375</td>\n",
       "      <td>0.026199</td>\n",
       "      <td>0.010854</td>\n",
       "      <td>0.011834</td>\n",
       "    </tr>\n",
       "    <tr>\n",
       "      <th>6</th>\n",
       "      <td>115.0</td>\n",
       "      <td>0.988381</td>\n",
       "      <td>0.026189</td>\n",
       "      <td>0.010842</td>\n",
       "      <td>0.011836</td>\n",
       "    </tr>\n",
       "    <tr>\n",
       "      <th>7</th>\n",
       "      <td>120.0</td>\n",
       "      <td>0.988389</td>\n",
       "      <td>0.026172</td>\n",
       "      <td>0.010825</td>\n",
       "      <td>0.011836</td>\n",
       "    </tr>\n",
       "    <tr>\n",
       "      <th>8</th>\n",
       "      <td>125.0</td>\n",
       "      <td>0.988404</td>\n",
       "      <td>0.026144</td>\n",
       "      <td>0.010794</td>\n",
       "      <td>0.011837</td>\n",
       "    </tr>\n",
       "    <tr>\n",
       "      <th>9</th>\n",
       "      <td>130.0</td>\n",
       "      <td>0.988437</td>\n",
       "      <td>0.026081</td>\n",
       "      <td>0.010733</td>\n",
       "      <td>0.011836</td>\n",
       "    </tr>\n",
       "    <tr>\n",
       "      <th>10</th>\n",
       "      <td>135.0</td>\n",
       "      <td>0.988456</td>\n",
       "      <td>0.026042</td>\n",
       "      <td>0.010694</td>\n",
       "      <td>0.011838</td>\n",
       "    </tr>\n",
       "    <tr>\n",
       "      <th>11</th>\n",
       "      <td>145.0</td>\n",
       "      <td>0.988472</td>\n",
       "      <td>0.026010</td>\n",
       "      <td>0.010660</td>\n",
       "      <td>0.011839</td>\n",
       "    </tr>\n",
       "    <tr>\n",
       "      <th>12</th>\n",
       "      <td>140.0</td>\n",
       "      <td>0.988463</td>\n",
       "      <td>0.026029</td>\n",
       "      <td>0.010679</td>\n",
       "      <td>0.011838</td>\n",
       "    </tr>\n",
       "  </tbody>\n",
       "</table>\n",
       "</div>"
      ],
      "text/plain": [
       "    flank-length  spearman  mard_drop_nan        fp        fn\n",
       "0           85.0  0.988318       0.026321  0.010969  0.011832\n",
       "1           90.0  0.988337       0.026280  0.010935  0.011830\n",
       "2           95.0  0.988346       0.026261  0.010916  0.011830\n",
       "3          100.0  0.988355       0.026242  0.010897  0.011832\n",
       "4          105.0  0.988367       0.026216  0.010872  0.011832\n",
       "5          110.0  0.988375       0.026199  0.010854  0.011834\n",
       "6          115.0  0.988381       0.026189  0.010842  0.011836\n",
       "7          120.0  0.988389       0.026172  0.010825  0.011836\n",
       "8          125.0  0.988404       0.026144  0.010794  0.011837\n",
       "9          130.0  0.988437       0.026081  0.010733  0.011836\n",
       "10         135.0  0.988456       0.026042  0.010694  0.011838\n",
       "11         145.0  0.988472       0.026010  0.010660  0.011839\n",
       "12         140.0  0.988463       0.026029  0.010679  0.011838"
      ]
     },
     "execution_count": 109,
     "metadata": {},
     "output_type": "execute_result"
    }
   ],
   "source": [
    "all_df"
   ]
  },
  {
   "cell_type": "code",
   "execution_count": 102,
   "metadata": {},
   "outputs": [
    {
     "data": {
      "image/png": "[encoded data removed]",
      "text/plain": [
       "<Figure size 720x576 with 1 Axes>"
      ]
     },
     "metadata": {},
     "output_type": "display_data"
    }
   ],
   "source": [
    "sns.set()\n",
    "g = plt.plot(spearmans_df['flank-length'], spearmans_df['spearman'])\n",
    "plt.xlabel('flank-length')\n",
    "plt.ylabel('Spearman correlation')\n",
    "fig = plt.gcf()\n",
    "fig.set_size_inches(10,8)\n",
    "sns.despine()"
   ]
  },
  {
   "cell_type": "code",
   "execution_count": null,
   "metadata": {},
   "outputs": [],
   "source": [
    "\n",
    "sns.set()\n",
    "g = plt.plot(spearmans_df['flank-length'], spearmans_df['spearman'])\n",
    "plt.xlabel('flank-length')\n",
    "plt.ylabel('Spearman correlation')\n",
    "fig = plt.gcf()\n",
    "fig.set_size_inches(10,8)\n",
    "sns.despine()"
   ]
  }
 ],
 "metadata": {
  "kernelspec": {
   "display_name": "Python 3",
   "language": "python",
   "name": "python3"
  },
  "language_info": {
   "codemirror_mode": {
    "name": "ipython",
    "version": 3
   },
   "file_extension": ".py",
   "mimetype": "text/x-python",
   "name": "python",
   "nbconvert_exporter": "python",
   "pygments_lexer": "ipython3",
   "version": "3.8.3"
  }
 },
 "nbformat": 4,
 "nbformat_minor": 4
}
